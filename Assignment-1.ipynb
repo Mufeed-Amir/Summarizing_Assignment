{
 "cells": [
  {
   "cell_type": "markdown",
   "id": "ebe1b902",
   "metadata": {},
   "source": [
    "## @M. Amir (220660)\n"
   ]
  },
  {
   "cell_type": "markdown",
   "id": "e5e2c5a4",
   "metadata": {},
   "source": [
    "### I have worked on the Task 3 : `ModiJi Crawler`\n",
    "\n",
    "#### All the details and specification is written along with the code\n",
    "\n",
    "\n"
   ]
  },
  {
   "cell_type": "markdown",
   "id": "4ca0f4e0",
   "metadata": {},
   "source": [
    "**Importing Beautiful Soup & Requests Library**"
   ]
  },
  {
   "cell_type": "code",
   "execution_count": 1,
   "id": "8c403bdc",
   "metadata": {},
   "outputs": [],
   "source": [
    "from bs4 import BeautifulSoup\n",
    "import requests"
   ]
  },
  {
   "cell_type": "code",
   "execution_count": 2,
   "id": "b8db4733",
   "metadata": {},
   "outputs": [],
   "source": [
    "# Base URL : Narendra Modi wikipedia page\n",
    "base_url=\"https://en.wikipedia.org/wiki/Narendra_Modi\""
   ]
  },
  {
   "cell_type": "code",
   "execution_count": 3,
   "id": "8a8f8b98",
   "metadata": {
    "scrolled": true
   },
   "outputs": [
    {
     "data": {
      "text/plain": [
       "<Response [200]>"
      ]
     },
     "execution_count": 3,
     "metadata": {},
     "output_type": "execute_result"
    }
   ],
   "source": [
    "# Checking response\n",
    "r=requests.get(base_url)\n",
    "r"
   ]
  },
  {
   "cell_type": "markdown",
   "id": "b559c72d",
   "metadata": {},
   "source": [
    "### `def OneLevel`\n",
    "\n",
    "* Basically this function takes two parameters, **base_url** and **view = False (By default)** and returns a PYTHON LIST that store all the links at **base_url** page.\n",
    "* If view = True , it will also print all the links"
   ]
  },
  {
   "cell_type": "code",
   "execution_count": 4,
   "id": "ef2c0272",
   "metadata": {},
   "outputs": [],
   "source": [
    "def OneLevel(base_url, view = False):\n",
    "    \n",
    "    listy_list=[]\n",
    "     \n",
    "    # Requesting the html file from base_url\n",
    "    r=requests.get(base_url)\n",
    "    \n",
    "    # Parsing it with BeautifulSoup using lxml as a parser\n",
    "    LifeBoy=BeautifulSoup(r.text, \"lxml\")\n",
    "        \n",
    "    # All <a> tags on the webpage\n",
    "    links=LifeBoy.find_all('a')\n",
    "        \n",
    "    for link in links:\n",
    "            \n",
    "        iURL=link.get(\"href\")\n",
    "            \n",
    "        # checking whether the `iURL` is the complete URL or relative\n",
    "        if iURL==None :\n",
    "            continue  \n",
    "        elif iURL[:5] == \"https\" :  # Complete URL\n",
    "                \n",
    "            # If `view` parameter == True, the it will also print links\n",
    "            if view == True:\n",
    "                print(iURL)   \n",
    "            listy_list.append(iURL)\n",
    "                \n",
    "        else: # Relative URL , converting the URL into complete URL\n",
    "                \n",
    "            if view==True:\n",
    "                print(base_url+iURL)\n",
    "            listy_list.append(base_url+iURL)\n",
    "                \n",
    "    return listy_list\n",
    "        \n",
    "        "
   ]
  },
  {
   "cell_type": "code",
   "execution_count": 5,
   "id": "7ac4bfe2",
   "metadata": {},
   "outputs": [],
   "source": [
    "# Printing the first lvl Links\n",
    "First_lvl_links=OneLevel(base_url,view=True)"
   ]
  },
  {
   "cell_type": "markdown",
   "id": "28d75e3c",
   "metadata": {},
   "source": [
    "## `def nLevel`\n",
    "\n",
    "* This function takes 3 Parameters :\n",
    "\n",
    "  * `base_url` \n",
    "\n",
    "  * `level` - for Nth level Links\n",
    "  \n",
    "  * `view` - If view = True, it will also print links simlultaneouly along with the processing\n",
    "  \n",
    "* It returns a 2D PYTHON List (listy_list). `listy_list[0]` , `listy_list[1]` ... `listy_list[n-1]` will contain all the links of 1st, 2nd ... and nth level respectively ."
   ]
  },
  {
   "cell_type": "code",
   "execution_count": 6,
   "id": "b693c29b",
   "metadata": {},
   "outputs": [],
   "source": [
    "def nLevel(base_url,level=2, view = False ):\n",
    "    \n",
    "\n",
    "    # Checking the level values \n",
    "    if level < 1 :\n",
    "        print(\"Level can't be less than one !\")\n",
    "        return\n",
    "    if level==1:\n",
    "        if view == True:\n",
    "            \n",
    "            print(f\"------ Printing the 1th Level ! ------\")\n",
    "            return OneLevel(base_url,True)\n",
    "        \n",
    "        else:\n",
    "            return OneLevel(base_url,False)\n",
    "            \n",
    "    \n",
    "    listy_list=[OneLevel(base_url,False)]\n",
    "    \n",
    "    # For level >=2 \n",
    "    for lvl in range(level):\n",
    "        \n",
    "        tempList=listy_list[lvl]\n",
    "        \n",
    "        List=[]\n",
    "        \n",
    "        print(\"Loading... Will be Loading for atleast 30 minutes... \",\"\\n\")\n",
    "        \n",
    "        if view:\n",
    "            print(f\"------ Printing the {lvl+1}th Level ! ------\")\n",
    "        \n",
    "        for link in tempList:\n",
    "            \n",
    "            if view:\n",
    "                List = List + OneLevel(link,True)\n",
    "            else:\n",
    "                print(\"*\",end=\"\")\n",
    "                List = List + OneLevel(link, False)\n",
    "            \n",
    "        listy_list.append(List)\n",
    "        \n",
    "    return listy_list\n",
    "            "
   ]
  },
  {
   "cell_type": "code",
   "execution_count": 7,
   "id": "c13a26b8",
   "metadata": {},
   "outputs": [],
   "source": [
    "Second_Lvl_Links_array=nLevel(base_url,2,False)"
   ]
  }
 ],
 "metadata": {
  "kernelspec": {
   "display_name": "Python 3 (ipykernel)",
   "language": "python",
   "name": "python3"
  },
  "language_info": {
   "codemirror_mode": {
    "name": "ipython",
    "version": 3
   },
   "file_extension": ".py",
   "mimetype": "text/x-python",
   "name": "python",
   "nbconvert_exporter": "python",
   "pygments_lexer": "ipython3",
   "version": "3.11.3"
  }
 },
 "nbformat": 4,
 "nbformat_minor": 5
}
